{
 "cells": [
  {
   "cell_type": "markdown",
   "metadata": {
    "slideshow": {
     "slide_type": "slide"
    }
   },
   "source": [
    "**1st Cycle Tech Support Team Work Summary**"
   ]
  },
  {
   "cell_type": "markdown",
   "metadata": {
    "slideshow": {
     "slide_type": "slide"
    }
   },
   "source": [
    "**This script is mainly used to grab tables in PDF and generate CSV files  \n",
    "script doesn't fit well before 2000  \n",
    "(Jia Pengyue&emsp;&emsp;2020.6.24)**  "
   ]
  },
  {
   "cell_type": "markdown",
   "metadata": {
    "slideshow": {
     "slide_type": "slide"
    }
   },
   "source": [
    "## 导入所需依赖"
   ]
  },
  {
   "cell_type": "markdown",
   "metadata": {
    "slideshow": {
     "slide_type": "fragment"
    }
   },
   "source": [
    "这里要pip install PyMuPDF 安装fitz的辅助环境  \n",
    "其余包pip install即可"
   ]
  },
  {
   "cell_type": "markdown",
   "metadata": {
    "slideshow": {
     "slide_type": "fragment"
    }
   },
   "source": [
    "> pip install fitz lxml==4.3 networkx==2.0 -i https://pypi.tuna.tsinghua.edu.cn/simple/"
   ]
  },
  {
   "cell_type": "code",
   "execution_count": 13,
   "metadata": {
    "slideshow": {
     "slide_type": "fragment"
    }
   },
   "outputs": [],
   "source": [
    "import os\n",
    "from pathlib2 import Path\n",
    "import pandas as pd\n",
    "import fitz\n",
    "import glob\n",
    "import tabula"
   ]
  },
  {
   "cell_type": "markdown",
   "metadata": {
    "slideshow": {
     "slide_type": "slide"
    }
   },
   "source": [
    "## 创建文件目录及声明路径"
   ]
  },
  {
   "cell_type": "markdown",
   "metadata": {
    "slideshow": {
     "slide_type": "fragment"
    }
   },
   "source": [
    "首先创建文件目录，如下图所示。  \n",
    "pdf文件存于pdfs文件夹中"
   ]
  },
  {
   "cell_type": "markdown",
   "metadata": {
    "slideshow": {
     "slide_type": "fragment"
    }
   },
   "source": [
    "|---geology_big_data  \n",
    "&nbsp;&nbsp;&nbsp;&nbsp;&nbsp;|---pdfs  \n",
    "&nbsp;&nbsp;&nbsp;&nbsp;&nbsp;|---figures  \n",
    "&nbsp;&nbsp;&nbsp;&nbsp;&nbsp;|---ABBYY  \n",
    "&nbsp;&nbsp;&nbsp;&nbsp;&nbsp;|---result_ZJUgeology  \n",
    "&nbsp;&nbsp;&nbsp;&nbsp;&nbsp;|---csv"
   ]
  },
  {
   "cell_type": "code",
   "execution_count": 2,
   "metadata": {
    "slideshow": {
     "slide_type": "fragment"
    }
   },
   "outputs": [],
   "source": [
    "# 整个项目的根目录\n",
    "root_path = 'C:\\\\Users\\\\Administrator\\\\Desktop\\\\code\\\\python\\\\GIS-python\\\\geology_big_data\\\\'\n",
    "pdf_path = root_path + 'pdfs\\\\'\n",
    "#result文件夹的命名请尽量复杂，确保不会在论文名称中出现\n",
    "result_path = root_path + 'result_ZJUgeology\\\\'\n",
    "figure_path = root_path + 'figures\\\\'\n",
    "ABBYY_path = root_path + 'ABBYY\\\\'"
   ]
  },
  {
   "cell_type": "markdown",
   "metadata": {
    "slideshow": {
     "slide_type": "slide"
    }
   },
   "source": [
    "## 抓取表格另存为png图片"
   ]
  },
  {
   "cell_type": "markdown",
   "metadata": {
    "slideshow": {
     "slide_type": "fragment"
    }
   },
   "source": [
    "1.需要提前安装PDFFigures2  \n",
    "https://github.com/allenai/pdffigures2  \n",
    "2.安装java环境（注意配置完环境变量）  \n",
    "https://www.runoob.com/java/java-environment-setup.html#win-install  \n",
    "3.安装sbt  \n",
    "注意这里sbt的安装路径不要有空格  \n",
    "https://www.scala-sbt.org/download.html  \n",
    "安装的文档  \n",
    "https://blog.csdn.net/weixin_41846320/article/details/84784175   \n",
    "使用说明  \n",
    "https://titipata.github.io/2016/11/06/pdffigure2.html  \n",
    "> **2、3两步安装好的测试都是在cmd内输入java -version 与 sbt -version 如果有显示，则说明安装完毕了**"
   ]
  },
  {
   "cell_type": "markdown",
   "metadata": {
    "slideshow": {
     "slide_type": "fragment"
    }
   },
   "source": [
    "出现Java的不能运行powershell.exe错误，则需为系统加入环境变量C:\\Windows\\System32\\WindowsPowerShell\\v1.0"
   ]
  },
  {
   "cell_type": "markdown",
   "metadata": {
    "slideshow": {
     "slide_type": "slide"
    }
   },
   "source": [
    "### 创建result文件夹"
   ]
  },
  {
   "cell_type": "code",
   "execution_count": null,
   "metadata": {
    "slideshow": {
     "slide_type": "fragment"
    }
   },
   "outputs": [],
   "source": [
    "files = os.listdir(path=pdf_path)\n",
    "for pdf in files:\n",
    "    pdf_name = pdf[:-4] #去除.pdf后缀\n",
    "    #在结果文件夹中创建pdf名字的文件夹\n",
    "    subprocess.run([\"cmd\",\"/c\",\"mkdir\",\"{}{}\".format(result_path, pdf_name)],shell=True)"
   ]
  },
  {
   "cell_type": "markdown",
   "metadata": {
    "slideshow": {
     "slide_type": "slide"
    }
   },
   "source": [
    "### 创建figures对应文件夹"
   ]
  },
  {
   "cell_type": "code",
   "execution_count": null,
   "metadata": {
    "slideshow": {
     "slide_type": "fragment"
    }
   },
   "outputs": [],
   "source": [
    "for pdf in files:\n",
    "    pdf_name = pdf[:-4] #去除.pdf后缀\n",
    "    os.system('mkdir {}{}'.format(figure_path,pdf_name))"
   ]
  },
  {
   "cell_type": "markdown",
   "metadata": {
    "slideshow": {
     "slide_type": "slide"
    }
   },
   "source": [
    "### 提取图片和表格存为png"
   ]
  },
  {
   "cell_type": "code",
   "execution_count": null,
   "metadata": {
    "slideshow": {
     "slide_type": "fragment"
    }
   },
   "outputs": [],
   "source": [
    "#将目录调整至pdffigures2文件夹\n",
    "os.chdir('C:\\\\Users\\\\Administrator\\\\pdffigures2')\n",
    "#执行sbt语句\n",
    "for pdf in files:\n",
    "    pdf_name = pdf[:-4]\n",
    "    os.system('sbt \"runMain org.allenai.pdffigures2.FigureExtractorBatchCli {0}{1} -s {2}.json -m {3}{4}\\\\{5} -d {6}{7}\\\\{8}\"'\\\n",
    "          .format(pdf_path,pdf,pdf_name,result_path,pdf_name,pdf_name,result_path,pdf_name,pdf_name))"
   ]
  },
  {
   "cell_type": "markdown",
   "metadata": {
    "slideshow": {
     "slide_type": "slide"
    }
   },
   "source": [
    "## 生成表格PDF"
   ]
  },
  {
   "cell_type": "markdown",
   "metadata": {
    "slideshow": {
     "slide_type": "slide"
    }
   },
   "source": [
    "### 筛选表格png"
   ]
  },
  {
   "cell_type": "code",
   "execution_count": null,
   "metadata": {
    "slideshow": {
     "slide_type": "fragment"
    }
   },
   "outputs": [],
   "source": [
    "for root,dirnames,files in os.walk('C:/Users/Administrator/Desktop/code/python/GIS-python/geology_big_data/result_ZJUgeology'):\n",
    "    for file in files:\n",
    "        if 'Table' not in file:\n",
    "            os.system('move {0}\\\\{1} {2}'.format(root,file,root.replace('result_ZJUgeology','figures')))"
   ]
  },
  {
   "cell_type": "markdown",
   "metadata": {
    "slideshow": {
     "slide_type": "slide"
    }
   },
   "source": [
    "### 将表格png转为pdf格式并删除原png图像"
   ]
  },
  {
   "cell_type": "code",
   "execution_count": 19,
   "metadata": {
    "collapsed": true,
    "slideshow": {
     "slide_type": "fragment"
    }
   },
   "outputs": [
    {
     "name": "stdout",
     "output_type": "stream",
     "text": [
      "C:\\Users\\Administrator\\Desktop\\code\\python\\GIS-python\\geology_big_data\\result_ZJUgeology\\2007_Donnelly_Lithos\\2007_Donnelly_Lithos2007_Donnelly_Lithos-Table1-1.png\n",
      "C:\\Users\\Administrator\\Desktop\\code\\python\\GIS-python\\geology_big_data\\result_ZJUgeology\\2007_Donnelly_Lithos\\2007_Donnelly_Lithos2007_Donnelly_Lithos-Table2-1.png\n",
      "C:\\Users\\Administrator\\Desktop\\code\\python\\GIS-python\\geology_big_data\\result_ZJUgeology\\2007_Donnelly_Lithos\\2007_Donnelly_Lithos2007_Donnelly_Lithos-Table3-1.png\n",
      "C:\\Users\\Administrator\\Desktop\\code\\python\\GIS-python\\geology_big_data\\result_ZJUgeology\\2007_Donnelly_Lithos\\2007_Donnelly_Lithos2007_Donnelly_Lithos-Table4-1.png\n",
      "C:\\Users\\Administrator\\Desktop\\code\\python\\GIS-python\\geology_big_data\\result_ZJUgeology\\2008_Stachel_OGR\\2008_Stachel_OGR2008_Stachel_OGR-Table1-1.png\n",
      "C:\\Users\\Administrator\\Desktop\\code\\python\\GIS-python\\geology_big_data\\result_ZJUgeology\\2008_Stachel_OGR\\2008_Stachel_OGR2008_Stachel_OGR-Table2-1.png\n",
      "C:\\Users\\Administrator\\Desktop\\code\\python\\GIS-python\\geology_big_data\\result_ZJUgeology\\2008_Stachel_OGR\\2008_Stachel_OGR2008_Stachel_OGR-Table3-1.png\n",
      "C:\\Users\\Administrator\\Desktop\\code\\python\\GIS-python\\geology_big_data\\result_ZJUgeology\\2008_Stachel_OGR\\2008_Stachel_OGR2008_Stachel_OGR-Table4-1.png\n",
      "C:\\Users\\Administrator\\Desktop\\code\\python\\GIS-python\\geology_big_data\\result_ZJUgeology\\2008_Stachel_OGR\\2008_Stachel_OGR2008_Stachel_OGR-Table5-1.png\n",
      "C:\\Users\\Administrator\\Desktop\\code\\python\\GIS-python\\geology_big_data\\result_ZJUgeology\\2008_Stachel_OGR\\2008_Stachel_OGR2008_Stachel_OGR-Table6-1.png\n",
      "C:\\Users\\Administrator\\Desktop\\code\\python\\GIS-python\\geology_big_data\\result_ZJUgeology\\2008_Stachel_OGR\\2008_Stachel_OGR2008_Stachel_OGR-Table7-1.png\n",
      "C:\\Users\\Administrator\\Desktop\\code\\python\\GIS-python\\geology_big_data\\result_ZJUgeology\\2008_Stachel_OGR\\2008_Stachel_OGR2008_Stachel_OGR-Table8-1.png\n",
      "C:\\Users\\Administrator\\Desktop\\code\\python\\GIS-python\\geology_big_data\\result_ZJUgeology\\2008_Stachel_OGR\\2008_Stachel_OGR2008_Stachel_OGR-Table9-1.png\n",
      "C:\\Users\\Administrator\\Desktop\\code\\python\\GIS-python\\geology_big_data\\result_ZJUgeology\\2009_Kaminsky_Lithos\\2009_Kaminsky_Lithos2009_Kaminsky_Lithos-Table1-1.png\n",
      "C:\\Users\\Administrator\\Desktop\\code\\python\\GIS-python\\geology_big_data\\result_ZJUgeology\\2009_Kaminsky_Lithos\\2009_Kaminsky_Lithos2009_Kaminsky_Lithos-Table2-1.png\n",
      "C:\\Users\\Administrator\\Desktop\\code\\python\\GIS-python\\geology_big_data\\result_ZJUgeology\\2009_Kaminsky_Lithos\\2009_Kaminsky_Lithos2009_Kaminsky_Lithos-Table3-1.png\n",
      "C:\\Users\\Administrator\\Desktop\\code\\python\\GIS-python\\geology_big_data\\result_ZJUgeology\\2009_Kaminsky_Lithos\\2009_Kaminsky_Lithos2009_Kaminsky_Lithos-Table4-1.png\n",
      "C:\\Users\\Administrator\\Desktop\\code\\python\\GIS-python\\geology_big_data\\result_ZJUgeology\\Richardson_2004\\Richardson_2004Richardson_2004-Table1-1.png\n",
      "C:\\Users\\Administrator\\Desktop\\code\\python\\GIS-python\\geology_big_data\\result_ZJUgeology\\Richardson_2004\\Richardson_2004Richardson_2004-Table2-1.png\n"
     ]
    }
   ],
   "source": [
    "for root,dirnames,files in os.walk('C:/Users/Administrator/Desktop/code/python/GIS-python/geology_big_data/result_ZJUgeology'):\n",
    "    for file in files:\n",
    "        if '.png' in file:\n",
    "            path_file = '{}\\{}'.format(root,file)\n",
    "            path_file = path_file.replace('/','\\\\')\n",
    "            imgdoc = fitz.open(path_file)\n",
    "            pdfbytes = imgdoc.convertToPDF()    # 使用图片创建单页的 PDF\n",
    "            imgpdf = fitz.open(\"pdf\", pdfbytes)\n",
    "            imgpdf.save(path_file[:-4] + '.pdf')\n",
    "            os.system(\"del {}\".format(path_file))"
   ]
  },
  {
   "cell_type": "markdown",
   "metadata": {
    "slideshow": {
     "slide_type": "slide"
    }
   },
   "source": [
    "## 用ABBYY转OCR"
   ]
  },
  {
   "cell_type": "markdown",
   "metadata": {
    "slideshow": {
     "slide_type": "fragment"
    }
   },
   "source": [
    "文档：https://www.ocrsdk.com/documentation/quick-start-guide/python-ocr-sdk/  \n",
    "步骤：  \n",
    "1、注册账号，创建应用，获取应用ID于应用密码  \n",
    "2、下载示例python文件，进入下载的python文件夹，pip install -r requirements.txt  \n",
    "3、自定义url，根据你下载时设置的地区设置   \n",
    "4、运行代码（生成ocr文件与原文件同目录）  \n",
    "> 请注意填写你的APPID和APPpassword"
   ]
  },
  {
   "cell_type": "code",
   "execution_count": 12,
   "metadata": {
    "slideshow": {
     "slide_type": "fragment"
    }
   },
   "outputs": [],
   "source": [
    "#这里改为你的存放process.py的文件夹\n",
    "os.chdir(ABBYY_path)\n",
    "for root,dirnames,files in os.walk('C:/Users/Administrator/Desktop/code/python/GIS-python/geology_big_data/result_ZJUgeology'):\n",
    "    for file in files:\n",
    "        if '.pdf' in file:\n",
    "            #默认语言为英语 如果要用其他语言 请看help 加入-l 语言名\n",
    "            #请在这里填入你的APPID 与 APPpassword\n",
    "            os.system('set ABBYY_APPID= && set ABBYY_PWD= && python process.py -pdf {1}\\\\{2} {3}\\\\{4}_ocr.pdf'\\\n",
    "                      .format(ABBYY_path,root,file,root,file))"
   ]
  },
  {
   "cell_type": "markdown",
   "metadata": {
    "slideshow": {
     "slide_type": "slide"
    }
   },
   "source": [
    "## 使用tabula提取表格并保存为csv"
   ]
  },
  {
   "cell_type": "code",
   "execution_count": 15,
   "metadata": {
    "slideshow": {
     "slide_type": "fragment"
    }
   },
   "outputs": [],
   "source": [
    "for root,dirnames,files in os.walk('C:/Users/Administrator/Desktop/code/python/GIS-python/geology_big_data/result_ZJUgeology'):\n",
    "    for file in files:\n",
    "        if '_ocr.pdf' in file:\n",
    "            try:\n",
    "                tabula.io.convert_into('{}\\\\{}'.format(root,file),\"C:\\\\Users\\\\Administrator\\\\Desktop\\\\code\\\\python\\\\GIS-python\\\\geology_big_data\\\\csv\\\\{}.csv\".format(file[:-4]),output_format='csv',pages='all')\n",
    "            except Exception:\n",
    "                pass"
   ]
  }
 ],
 "metadata": {
  "celltoolbar": "幻灯片",
  "kernelspec": {
   "display_name": "Python 3",
   "language": "python",
   "name": "python3"
  },
  "language_info": {
   "codemirror_mode": {
    "name": "ipython",
    "version": 3
   },
   "file_extension": ".py",
   "mimetype": "text/x-python",
   "name": "python",
   "nbconvert_exporter": "python",
   "pygments_lexer": "ipython3",
   "version": "3.7.1"
  },
  "toc": {
   "base_numbering": 1,
   "nav_menu": {},
   "number_sections": true,
   "sideBar": true,
   "skip_h1_title": false,
   "title_cell": "Table of Contents",
   "title_sidebar": "Contents",
   "toc_cell": false,
   "toc_position": {},
   "toc_section_display": true,
   "toc_window_display": false
  }
 },
 "nbformat": 4,
 "nbformat_minor": 4
}
